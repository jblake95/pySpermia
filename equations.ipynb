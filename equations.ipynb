{
 "cells": [
  {
   "cell_type": "code",
   "execution_count": 16,
   "metadata": {},
   "outputs": [
    {
     "data": {
      "image/png": "[encoded data removed]",
      "text/plain": [
       "<Figure size 432x288 with 1 Axes>"
      ]
     },
     "metadata": {
      "needs_background": "light"
     },
     "output_type": "display_data"
    }
   ],
   "source": [
    "%matplotlib inline\n",
    "import matplotlib.pyplot as plt\n",
    "import numpy as np\n",
    "\n",
    "def post_inc(phi, e=0, f=0, theta=90, vel_ratio=1):\n",
    "    \"\"\"\n",
    "    Calculate the post impact inclination I'\n",
    "    \"\"\"\n",
    "    e_factor = np.sqrt(1 - e**2) / (1 + e*np.cos(f))\n",
    "    H = 1 + \\\n",
    "        2*e_factor*vel_ratio*np.sin(theta)*np.sin(phi-f) + \\\n",
    "        e_factor**2*vel_ratio**2*(np.cos(theta)**2 + np.sin(theta)**2*np.sin(phi-f)**2)\n",
    "    cos_post_I = (1/np.sqrt(H))*(1 + e_factor*vel_ratio*np.sin(theta)*np.sin(phi-f))\n",
    "    post_I = np.arccos(cos_post_I)\n",
    "    return post_I * 180. / np.pi\n",
    "\n",
    "vel_ratio = 1\n",
    "theta = (89) * np.pi / 180.\n",
    "\n",
    "phi = np.linspace(0, 2*np.pi, 10000)\n",
    "\n",
    "plt.plot(phi, post_inc(phi, theta=theta, vel_ratio=vel_ratio), 'r--')\n",
    "plt.yscale('log')"
   ]
  },
  {
   "cell_type": "code",
   "execution_count": null,
   "metadata": {},
   "outputs": [],
   "source": []
  },
  {
   "cell_type": "code",
   "execution_count": null,
   "metadata": {},
   "outputs": [],
   "source": []
  }
 ],
 "metadata": {
  "kernelspec": {
   "display_name": "Python 3",
   "language": "python",
   "name": "python3"
  },
  "language_info": {
   "codemirror_mode": {
    "name": "ipython",
    "version": 3
   },
   "file_extension": ".py",
   "mimetype": "text/x-python",
   "name": "python",
   "nbconvert_exporter": "python",
   "pygments_lexer": "ipython3",
   "version": "3.5.2"
  }
 },
 "nbformat": 4,
 "nbformat_minor": 2
}
